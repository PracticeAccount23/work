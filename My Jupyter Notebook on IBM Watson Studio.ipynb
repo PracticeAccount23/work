{
  "metadata": {
    "language_info": {
      "name": ""
    },
    "kernelspec": {
      "name": ""
    }
  },
  "nbformat_minor": 4,
  "nbformat": 4,
  "cells": [
    {
      "cell_type": "markdown",
      "source": "# My Jupyter Notebook on IBM Watson Studio",
      "metadata": {}
    },
    {
      "cell_type": "markdown",
      "source": "**Robin Ajayi**\nCurrent Occupation: Full time Student",
      "metadata": {}
    },
    {
      "cell_type": "markdown",
      "source": "*I am Interested in Data Science becuase I do enjoy Data analytics and would like to open my Horizon by learning about Data Science*",
      "metadata": {}
    },
    {
      "cell_type": "markdown",
      "source": "### My code is a simple Mathematic equation of 1+1",
      "metadata": {}
    },
    {
      "cell_type": "code",
      "source": "1 + 1",
      "metadata": {
        "trusted": true
      },
      "execution_count": null,
      "outputs": []
    },
    {
      "cell_type": "markdown",
      "source": "<a href=\"https://dataplatform.cloud.ibm.com/gallery\">IBM Cloud Gallery</a> \n\n| header | header |\n| ------ | ------ |\n| cell | cell |\n\n<dl>\n  <dt>Definition list</dt>\n  <dd>Is something people use sometimes.</dd>\n\n  <dt>Markdown in HTML</dt>\n  <dd>Does *not* work **very** well. Use HTML <em>tags</em>.</dd>\n</dl>",
      "metadata": {}
    },
    {
      "cell_type": "code",
      "source": "",
      "metadata": {},
      "execution_count": null,
      "outputs": []
    }
  ]
}